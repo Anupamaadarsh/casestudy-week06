{
 "cells": [
  {
   "cell_type": "code",
   "execution_count": 1,
   "id": "367a81b3",
   "metadata": {},
   "outputs": [],
   "source": [
    "import numpy as np\n",
    "import pandas as pd\n",
    "import matplotlib.pyplot as plt\n",
    "import seaborn as sns\n",
    "import statistics"
   ]
  },
  {
   "cell_type": "code",
   "execution_count": 2,
   "id": "86f2e07b",
   "metadata": {},
   "outputs": [],
   "source": [
    "df=pd.read_excel('Dataset_w6.xlsx')"
   ]
  },
  {
   "cell_type": "code",
   "execution_count": 3,
   "id": "ce84e65f",
   "metadata": {},
   "outputs": [
    {
     "data": {
      "text/html": [
       "<div>\n",
       "<style scoped>\n",
       "    .dataframe tbody tr th:only-of-type {\n",
       "        vertical-align: middle;\n",
       "    }\n",
       "\n",
       "    .dataframe tbody tr th {\n",
       "        vertical-align: top;\n",
       "    }\n",
       "\n",
       "    .dataframe thead th {\n",
       "        text-align: right;\n",
       "    }\n",
       "</style>\n",
       "<table border=\"1\" class=\"dataframe\">\n",
       "  <thead>\n",
       "    <tr style=\"text-align: right;\">\n",
       "      <th></th>\n",
       "      <th>country</th>\n",
       "      <th>Region</th>\n",
       "      <th>Surface area (km2)</th>\n",
       "      <th>Population in thousands (2017)</th>\n",
       "      <th>GDP per capita (current US$)</th>\n",
       "      <th>Agricultural production index</th>\n",
       "      <th>International trade: Imports (million US$)</th>\n",
       "    </tr>\n",
       "  </thead>\n",
       "  <tbody>\n",
       "    <tr>\n",
       "      <th>0</th>\n",
       "      <td>Afghanistan</td>\n",
       "      <td>SouthernAsia</td>\n",
       "      <td>652864.0</td>\n",
       "      <td>35530.0</td>\n",
       "      <td>623.2</td>\n",
       "      <td>125.0</td>\n",
       "      <td>3568.0</td>\n",
       "    </tr>\n",
       "    <tr>\n",
       "      <th>1</th>\n",
       "      <td>Albania</td>\n",
       "      <td>SouthernEurope</td>\n",
       "      <td>28748.0</td>\n",
       "      <td>2930.0</td>\n",
       "      <td>3984.2</td>\n",
       "      <td>134.0</td>\n",
       "      <td>4669.0</td>\n",
       "    </tr>\n",
       "    <tr>\n",
       "      <th>2</th>\n",
       "      <td>Algeria</td>\n",
       "      <td>NorthernAfrica</td>\n",
       "      <td>2381741.0</td>\n",
       "      <td>41318.0</td>\n",
       "      <td>4154.1</td>\n",
       "      <td>160.0</td>\n",
       "      <td>47091.0</td>\n",
       "    </tr>\n",
       "    <tr>\n",
       "      <th>3</th>\n",
       "      <td>Angola</td>\n",
       "      <td>MiddleAfrica</td>\n",
       "      <td>1246700.0</td>\n",
       "      <td>29784.0</td>\n",
       "      <td>4714.1</td>\n",
       "      <td>175.0</td>\n",
       "      <td>8790.0</td>\n",
       "    </tr>\n",
       "    <tr>\n",
       "      <th>4</th>\n",
       "      <td>Antigua and Barbuda</td>\n",
       "      <td>Caribbean</td>\n",
       "      <td>442.0</td>\n",
       "      <td>102.0</td>\n",
       "      <td>14764.5</td>\n",
       "      <td>88.0</td>\n",
       "      <td>491.0</td>\n",
       "    </tr>\n",
       "  </tbody>\n",
       "</table>\n",
       "</div>"
      ],
      "text/plain": [
       "               country          Region  Surface area (km2)  \\\n",
       "0          Afghanistan    SouthernAsia            652864.0   \n",
       "1              Albania  SouthernEurope             28748.0   \n",
       "2              Algeria  NorthernAfrica           2381741.0   \n",
       "3               Angola    MiddleAfrica           1246700.0   \n",
       "4  Antigua and Barbuda       Caribbean               442.0   \n",
       "\n",
       "   Population in thousands (2017)  GDP per capita (current US$)  \\\n",
       "0                         35530.0                         623.2   \n",
       "1                          2930.0                        3984.2   \n",
       "2                         41318.0                        4154.1   \n",
       "3                         29784.0                        4714.1   \n",
       "4                           102.0                       14764.5   \n",
       "\n",
       "   Agricultural production index   International trade: Imports (million US$)  \n",
       "0                           125.0                                      3568.0  \n",
       "1                           134.0                                      4669.0  \n",
       "2                           160.0                                     47091.0  \n",
       "3                           175.0                                      8790.0  \n",
       "4                            88.0                                       491.0  "
      ]
     },
     "execution_count": 3,
     "metadata": {},
     "output_type": "execute_result"
    }
   ],
   "source": [
    "df.head()"
   ]
  },
  {
   "cell_type": "code",
   "execution_count": 4,
   "id": "be5e60c0",
   "metadata": {},
   "outputs": [
    {
     "data": {
      "text/plain": [
       "Index(['country', 'Region', 'Surface area (km2)',\n",
       "       'Population in thousands (2017)', 'GDP per capita (current US$)',\n",
       "       'Agricultural production index ',\n",
       "       'International trade: Imports (million US$)'],\n",
       "      dtype='object')"
      ]
     },
     "execution_count": 4,
     "metadata": {},
     "output_type": "execute_result"
    }
   ],
   "source": [
    "df.columns"
   ]
  },
  {
   "cell_type": "markdown",
   "id": "88550d7d",
   "metadata": {},
   "source": [
    "# 1. Find out how many countries are there in the dataset."
   ]
  },
  {
   "cell_type": "code",
   "execution_count": 5,
   "id": "54f4c3c2",
   "metadata": {},
   "outputs": [
    {
     "data": {
      "text/plain": [
       "196"
      ]
     },
     "execution_count": 5,
     "metadata": {},
     "output_type": "execute_result"
    }
   ],
   "source": [
    "df.country.count()"
   ]
  },
  {
   "cell_type": "markdown",
   "id": "1668c535",
   "metadata": {},
   "source": [
    "# 2. Find out how many countries with respect to the region are available in the dataset"
   ]
  },
  {
   "cell_type": "code",
   "execution_count": 6,
   "id": "ee46d8fb",
   "metadata": {},
   "outputs": [
    {
     "data": {
      "text/plain": [
       "WesternAsia          18\n",
       "EasternAfrica        17\n",
       "Caribbean            16\n",
       "WesternAfrica        15\n",
       "SouthAmerica         12\n",
       "SouthernEurope       12\n",
       "South-easternAsia    11\n",
       "EasternEurope        10\n",
       "NorthernEurope       10\n",
       "SouthernAsia          9\n",
       "MiddleAfrica          9\n",
       "CentralAmerica        8\n",
       "WesternEurope         7\n",
       "EasternAsia           7\n",
       "SouthernAfrica        5\n",
       "Polynesia             5\n",
       "NorthernAfrica        5\n",
       "Melanesia             5\n",
       "CentralAsia           5\n",
       "NorthernAmerica       4\n",
       "Micronesia            4\n",
       "Oceania               2\n",
       "Name: Region, dtype: int64"
      ]
     },
     "execution_count": 6,
     "metadata": {},
     "output_type": "execute_result"
    }
   ],
   "source": [
    "df.Region.value_counts()"
   ]
  },
  {
   "cell_type": "code",
   "execution_count": 22,
   "id": "6dd93190",
   "metadata": {},
   "outputs": [
    {
     "data": {
      "text/plain": [
       "([0,\n",
       "  1,\n",
       "  2,\n",
       "  3,\n",
       "  4,\n",
       "  5,\n",
       "  6,\n",
       "  7,\n",
       "  8,\n",
       "  9,\n",
       "  10,\n",
       "  11,\n",
       "  12,\n",
       "  13,\n",
       "  14,\n",
       "  15,\n",
       "  16,\n",
       "  17,\n",
       "  18,\n",
       "  19,\n",
       "  20,\n",
       "  21],\n",
       " [Text(0, 0, ''),\n",
       "  Text(0, 0, ''),\n",
       "  Text(0, 0, ''),\n",
       "  Text(0, 0, ''),\n",
       "  Text(0, 0, ''),\n",
       "  Text(0, 0, ''),\n",
       "  Text(0, 0, ''),\n",
       "  Text(0, 0, ''),\n",
       "  Text(0, 0, ''),\n",
       "  Text(0, 0, ''),\n",
       "  Text(0, 0, ''),\n",
       "  Text(0, 0, ''),\n",
       "  Text(0, 0, ''),\n",
       "  Text(0, 0, ''),\n",
       "  Text(0, 0, ''),\n",
       "  Text(0, 0, ''),\n",
       "  Text(0, 0, ''),\n",
       "  Text(0, 0, ''),\n",
       "  Text(0, 0, ''),\n",
       "  Text(0, 0, ''),\n",
       "  Text(0, 0, ''),\n",
       "  Text(0, 0, '')])"
      ]
     },
     "execution_count": 22,
     "metadata": {},
     "output_type": "execute_result"
    },
    {
     "data": {
      "image/png": "[encoded data removed]",
      "text/plain": [
       "<Figure size 576x576 with 1 Axes>"
      ]
     },
     "metadata": {
      "needs_background": "light"
     },
     "output_type": "display_data"
    }
   ],
   "source": [
    "reg_cntry=df.Region.value_counts()\n",
    "reg_cntry=dict(reg_cntry)\n",
    "region=list(reg_cntry.keys())\n",
    "cntry_count=list(reg_cntry.values())\n",
    "plt.figure(figsize=(8,8))\n",
    "plt.bar(region,cntry_count,color='b',width=.9)\n",
    "plt.xlabel('Region')\n",
    "plt.xticks(rotation=90)"
   ]
  },
  {
   "cell_type": "markdown",
   "id": "5776f1f8",
   "metadata": {},
   "source": [
    "# 3. On average which region has the highest"
   ]
  },
  {
   "cell_type": "markdown",
   "id": "b33fd32a",
   "metadata": {},
   "source": [
    "# a. GDP per capita (current US$)"
   ]
  },
  {
   "cell_type": "code",
   "execution_count": 7,
   "id": "0ca7056f",
   "metadata": {},
   "outputs": [
    {
     "data": {
      "text/plain": [
       "<AxesSubplot:title={'center':'Avarage of gdp over Regions'}, xlabel='Region'>"
      ]
     },
     "execution_count": 7,
     "metadata": {},
     "output_type": "execute_result"
    },
    {
     "data": {
      "image/png": "[encoded data removed]",
      "text/plain": [
       "<Figure size 432x288 with 1 Axes>"
      ]
     },
     "metadata": {
      "needs_background": "light"
     },
     "output_type": "display_data"
    }
   ],
   "source": [
    "df.groupby('Region')['GDP per capita (current US$)'].mean().sort_values().plot(kind='bar',x='Region',y='GDP per capita (current US$)',title='Avarage of gdp over Regions')"
   ]
  },
  {
   "cell_type": "markdown",
   "id": "356da662",
   "metadata": {},
   "source": [
    "Northern America has highest GDP per capita"
   ]
  },
  {
   "cell_type": "markdown",
   "id": "aef8f8ac",
   "metadata": {},
   "source": [
    "# b. International trade: Imports (million US$)"
   ]
  },
  {
   "cell_type": "code",
   "execution_count": 8,
   "id": "e5fb46c0",
   "metadata": {},
   "outputs": [],
   "source": [
    "df1=df.groupby('Region',as_index=False)['International trade: Imports (million US$)'].mean()"
   ]
  },
  {
   "cell_type": "code",
   "execution_count": 10,
   "id": "f14acf13",
   "metadata": {},
   "outputs": [
    {
     "data": {
      "text/plain": [
       "79961.38265306123"
      ]
     },
     "execution_count": 10,
     "metadata": {},
     "output_type": "execute_result"
    }
   ],
   "source": [
    "statistics.mean(df['International trade: Imports (million US$)'])"
   ]
  },
  {
   "cell_type": "code",
   "execution_count": 11,
   "id": "fc647aa6",
   "metadata": {},
   "outputs": [
    {
     "data": {
      "text/plain": [
       "<matplotlib.lines.Line2D at 0x24bff27e5b0>"
      ]
     },
     "execution_count": 11,
     "metadata": {},
     "output_type": "execute_result"
    },
    {
     "data": {
      "image/png": "[encoded data removed]",
      "text/plain": [
       "<Figure size 432x288 with 1 Axes>"
      ]
     },
     "metadata": {
      "needs_background": "light"
     },
     "output_type": "display_data"
    }
   ],
   "source": [
    "plt.figure()\n",
    "plt.bar(df1['Region'],df1['International trade: Imports (million US$)'])\n",
    "plt.xticks(rotation=90)\n",
    "plt.axhline(79961.38265306123,color='red')"
   ]
  },
  {
   "cell_type": "markdown",
   "id": "48e69a04",
   "metadata": {},
   "source": [
    "Nortern america has highest international trades. the red line shows the average of entire regions"
   ]
  },
  {
   "cell_type": "markdown",
   "id": "c94e708b",
   "metadata": {},
   "source": [
    "# 4. Find out which region has more consistent with respect to GDP per capita(current US$)"
   ]
  },
  {
   "cell_type": "code",
   "execution_count": 12,
   "id": "0bb902f3",
   "metadata": {},
   "outputs": [],
   "source": [
    "cons_gdp=df.groupby('Region')['GDP per capita (current US$)'].std()"
   ]
  },
  {
   "cell_type": "code",
   "execution_count": 13,
   "id": "6cdbdb1c",
   "metadata": {},
   "outputs": [
    {
     "data": {
      "text/plain": [
       "Region\n",
       "Caribbean            14579.371326\n",
       "CentralAmerica        4180.440883\n",
       "CentralAsia           4152.215490\n",
       "EasternAfrica         3716.131770\n",
       "EasternAsia          27485.120923\n",
       "EasternEurope         5415.488739\n",
       "Melanesia            13855.842686\n",
       "Micronesia            4820.669694\n",
       "MiddleAfrica          5274.846281\n",
       "NorthernAfrica         974.706575\n",
       "NorthernAmerica      25749.619445\n",
       "NorthernEurope       20671.030185\n",
       "Oceania               9233.329638\n",
       "Polynesia             6956.250286\n",
       "South-easternAsia    16311.810656\n",
       "SouthAmerica          4273.707394\n",
       "SouthernAfrica        2177.551120\n",
       "SouthernAsia          2855.708179\n",
       "SouthernEurope        9541.703216\n",
       "WesternAfrica          815.095399\n",
       "WesternAsia          18812.151459\n",
       "WesternEurope        24770.467728\n",
       "Name: GDP per capita (current US$), dtype: float64"
      ]
     },
     "execution_count": 13,
     "metadata": {},
     "output_type": "execute_result"
    }
   ],
   "source": [
    "cons_gdp"
   ]
  },
  {
   "cell_type": "code",
   "execution_count": 14,
   "id": "53b1e16f",
   "metadata": {},
   "outputs": [
    {
     "data": {
      "image/png": "[encoded data removed]",
      "text/plain": [
       "<Figure size 576x576 with 1 Axes>"
      ]
     },
     "metadata": {
      "needs_background": "light"
     },
     "output_type": "display_data"
    }
   ],
   "source": [
    "cons_gdp=dict(cons_gdp)\n",
    "region_gdp=list(cons_gdp.keys())\n",
    "values_gdp=list(cons_gdp.values())\n",
    "plt.figure(figsize=(8,8))\n",
    "plt.bar(region_gdp,values_gdp,color ='g',width = 0.8)\n",
    "plt.xlabel(\"Region\")\n",
    "plt.xticks(rotation='vertical')\n",
    "plt.ylabel(\"International trade: Imports (million US$)\")\n",
    "plt.show()"
   ]
  },
  {
   "cell_type": "markdown",
   "id": "aa67f7fd",
   "metadata": {},
   "source": [
    "Western africa has less deviation in GDP per capita"
   ]
  },
  {
   "cell_type": "code",
   "execution_count": null,
   "id": "c970b138",
   "metadata": {},
   "outputs": [],
   "source": []
  }
 ],
 "metadata": {
  "kernelspec": {
   "display_name": "Python 3 (ipykernel)",
   "language": "python",
   "name": "python3"
  },
  "language_info": {
   "codemirror_mode": {
    "name": "ipython",
    "version": 3
   },
   "file_extension": ".py",
   "mimetype": "text/x-python",
   "name": "python",
   "nbconvert_exporter": "python",
   "pygments_lexer": "ipython3",
   "version": "3.9.12"
  }
 },
 "nbformat": 4,
 "nbformat_minor": 5
}
